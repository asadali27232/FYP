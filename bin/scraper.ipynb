{
 "cells": [
  {
   "cell_type": "code",
   "execution_count": 1,
   "metadata": {},
   "outputs": [
    {
     "name": "stderr",
     "output_type": "stream",
     "text": [
      "c:\\Users\\LENOVO\\AppData\\Local\\Programs\\Python\\Python312\\Lib\\site-packages\\urllib3\\connectionpool.py:1099: InsecureRequestWarning: Unverified HTTPS request is being made to host 'www.flightradar24.com'. Adding certificate verification is strongly advised. See: https://urllib3.readthedocs.io/en/latest/advanced-usage.html#tls-warnings\n",
      "  warnings.warn(\n"
     ]
    },
    {
     "name": "stdout",
     "output_type": "stream",
     "text": [
      "Request OK!\n"
     ]
    }
   ],
   "source": [
    "import requests\n",
    "from bs4 import BeautifulSoup\n",
    "import json\n",
    "import pandas as pd\n",
    "from pandas import json_normalize\n",
    "\n",
    "proxies = {\n",
    "    \"http\": \"scraperapi.device_type=desktop.country_code=us.wait_for_selector=a:8264ac9e3d8ff2c65424a9fed6492745@proxy-server.scraperapi.com:8001\"\n",
    "}\n",
    "\n",
    "url = 'https://www.flightradar24.com/airport/lhe/departures'\n",
    "\n",
    "r = requests.get(url, proxies=proxies, verify=False)\n",
    "\n",
    "print(\"Request OK!\")"
   ]
  },
  {
   "cell_type": "code",
   "execution_count": 2,
   "metadata": {},
   "outputs": [],
   "source": [
    "# Convert response to BeautifulSoup object\n",
    "soup = BeautifulSoup(r.text, 'html.parser')\n",
    "\n",
    "# Save the prettified output to a file with UTF-8 encoding\n",
    "with open('output.html', 'w', encoding='utf-8') as f:\n",
    "    f.write(soup.prettify())\n",
    "\n",
    "script_tag = soup.find('script', type='text/javascript')\n",
    "\n",
    "# Save the prettified output to a file with UTF-8 encoding\n",
    "with open('script.js', 'w', encoding='utf-8') as f:\n",
    "    f.write(script_tag.prettify())\n",
    "\n",
    "print(\"Scrip tag extracted!\")"
   ]
  },
  {
   "cell_type": "code",
   "execution_count": 5,
   "metadata": {},
   "outputs": [
    {
     "data": {
      "text/html": [
       "<div>\n",
       "<style scoped>\n",
       "    .dataframe tbody tr th:only-of-type {\n",
       "        vertical-align: middle;\n",
       "    }\n",
       "\n",
       "    .dataframe tbody tr th {\n",
       "        vertical-align: top;\n",
       "    }\n",
       "\n",
       "    .dataframe thead th {\n",
       "        text-align: right;\n",
       "    }\n",
       "</style>\n",
       "<table border=\"1\" class=\"dataframe\">\n",
       "  <thead>\n",
       "    <tr style=\"text-align: right;\">\n",
       "      <th></th>\n",
       "      <th>pdt_category</th>\n",
       "      <th>pagetype</th>\n",
       "      <th>pdt_discount</th>\n",
       "      <th>pdt_photo</th>\n",
       "      <th>v_voya</th>\n",
       "      <th>brand_name</th>\n",
       "      <th>brand_id</th>\n",
       "      <th>pdt_sku</th>\n",
       "      <th>seller_name</th>\n",
       "      <th>pdt_simplesku</th>\n",
       "      <th>pdt_name</th>\n",
       "      <th>supplier_id</th>\n",
       "      <th>pdt_price</th>\n",
       "    </tr>\n",
       "  </thead>\n",
       "  <tbody>\n",
       "    <tr>\n",
       "      <th>0</th>\n",
       "      <td>[Sports &amp; Outdoors, Team Sports, Basketball, A...</td>\n",
       "      <td>pdp</td>\n",
       "      <td></td>\n",
       "      <td>https://pk-live-21.slatic.net/kf/S11d45b920f58...</td>\n",
       "      <td>1</td>\n",
       "      <td>No Brand</td>\n",
       "      <td>39704</td>\n",
       "      <td>432418961</td>\n",
       "      <td>Any 3 Store</td>\n",
       "      <td>2064519739</td>\n",
       "      <td>Bolttle Lovely Animals Creative Gift Outdoor P...</td>\n",
       "      <td>6005054538003</td>\n",
       "      <td>Rs. 600</td>\n",
       "    </tr>\n",
       "  </tbody>\n",
       "</table>\n",
       "</div>"
      ],
      "text/plain": [
       "                                        pdt_category pagetype pdt_discount  \\\n",
       "0  [Sports & Outdoors, Team Sports, Basketball, A...      pdp                \n",
       "\n",
       "                                           pdt_photo  v_voya brand_name  \\\n",
       "0  https://pk-live-21.slatic.net/kf/S11d45b920f58...       1   No Brand   \n",
       "\n",
       "  brand_id    pdt_sku  seller_name  pdt_simplesku  \\\n",
       "0    39704  432418961  Any 3 Store     2064519739   \n",
       "\n",
       "                                            pdt_name    supplier_id pdt_price  \n",
       "0  Bolttle Lovely Animals Creative Gift Outdoor P...  6005054538003   Rs. 600  "
      ]
     },
     "execution_count": 5,
     "metadata": {},
     "output_type": "execute_result"
    }
   ],
   "source": [
    "# Extract text content from the script tag\n",
    "script_text = script_tag.text.strip()\n",
    "\n",
    "# Find the index of the JSON string within the script text\n",
    "start_index = script_text.find('{')\n",
    "end_index = script_text.rfind('}\"') + 1\n",
    "\n",
    "# Extract the JSON string\n",
    "json_data = script_text[start_index:end_index]\n",
    "\n",
    "json_data = json_data.replace('\\\\\"', '\"')\n",
    "\n",
    "# Parse the JSON data\n",
    "parsed_data = json.loads(json_data)\n",
    "\n",
    "# Flatten the nested dictionary\n",
    "flat_data = {key: value for key,\n",
    "             value in parsed_data.items() if not isinstance(value, dict)}\n",
    "\n",
    "# Create a DataFrame from the JSON data\n",
    "df = pd.DataFrame.from_dict([flat_data])\n",
    "\n",
    "# Specify the file path to save the Excel file\n",
    "excel_file_path = 'data.xlsx'\n",
    "\n",
    "# Save the DataFrame to an Excel file\n",
    "df.to_excel(excel_file_path, index=False)\n",
    "\n",
    "df.head()"
   ]
  }
 ],
 "metadata": {
  "kernelspec": {
   "display_name": "Python 3",
   "language": "python",
   "name": "python3"
  },
  "language_info": {
   "codemirror_mode": {
    "name": "ipython",
    "version": 3
   },
   "file_extension": ".py",
   "mimetype": "text/x-python",
   "name": "python",
   "nbconvert_exporter": "python",
   "pygments_lexer": "ipython3",
   "version": "3.12.2"
  }
 },
 "nbformat": 4,
 "nbformat_minor": 2
}
