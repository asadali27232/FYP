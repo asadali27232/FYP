{
 "cells": [
  {
   "cell_type": "code",
   "execution_count": 19,
   "metadata": {},
   "outputs": [
    {
     "name": "stdout",
     "output_type": "stream",
     "text": [
      "Request OK!\n"
     ]
    },
    {
     "name": "stderr",
     "output_type": "stream",
     "text": [
      "c:\\Users\\LENOVO\\AppData\\Local\\Programs\\Python\\Python312\\Lib\\site-packages\\urllib3\\connectionpool.py:1099: InsecureRequestWarning: Unverified HTTPS request is being made to host 'www.daraz.pk'. Adding certificate verification is strongly advised. See: https://urllib3.readthedocs.io/en/latest/advanced-usage.html#tls-warnings\n",
      "  warnings.warn(\n"
     ]
    }
   ],
   "source": [
    "import requests\n",
    "from bs4 import BeautifulSoup\n",
    "import json\n",
    "import pandas as pd\n",
    "from pandas import json_normalize\n",
    "\n",
    "proxies = {\n",
    "    \"http\": \"scraperapi.device_type=desktop.country_code=us.wait_for_selector=a:8264ac9e3d8ff2c65424a9fed6492745@proxy-server.scraperapi.com:8001\"\n",
    "}\n",
    "\n",
    "r = requests.get('https://www.daraz.pk/products/i-diy-i466018780-s2201459932.html?spm=a2a0e.home.just4u.1.35e34076qHKBVv&scm=1007.28811.369129.0&pvid=d328d2fd-1c37-41c8-b9b7-411af16b9ef5&clickTrackInfo=pvid%3Ad328d2fd-1c37-41c8-b9b7-411af16b9ef5%3Bchannel_id%3A0000%3Bmt%3Atrend2i%3Bitem_id%3A466018780%3B', proxies=proxies, verify=False)\n",
    "\n",
    "print(\"Request OK!\")"
   ]
  },
  {
   "cell_type": "code",
   "execution_count": 21,
   "metadata": {},
   "outputs": [
    {
     "ename": "AttributeError",
     "evalue": "'NoneType' object has no attribute 'prettify'",
     "output_type": "error",
     "traceback": [
      "\u001b[1;31m---------------------------------------------------------------------------\u001b[0m",
      "\u001b[1;31mAttributeError\u001b[0m                            Traceback (most recent call last)",
      "Cell \u001b[1;32mIn[21], line 12\u001b[0m\n\u001b[0;32m     10\u001b[0m \u001b[38;5;66;03m# Save the prettified output to a file with UTF-8 encoding\u001b[39;00m\n\u001b[0;32m     11\u001b[0m \u001b[38;5;28;01mwith\u001b[39;00m \u001b[38;5;28mopen\u001b[39m(\u001b[38;5;124m'\u001b[39m\u001b[38;5;124mscript.js\u001b[39m\u001b[38;5;124m'\u001b[39m, \u001b[38;5;124m'\u001b[39m\u001b[38;5;124mw\u001b[39m\u001b[38;5;124m'\u001b[39m, encoding\u001b[38;5;241m=\u001b[39m\u001b[38;5;124m'\u001b[39m\u001b[38;5;124mutf-8\u001b[39m\u001b[38;5;124m'\u001b[39m) \u001b[38;5;28;01mas\u001b[39;00m f:\n\u001b[1;32m---> 12\u001b[0m     f\u001b[38;5;241m.\u001b[39mwrite(\u001b[43mscript_tag\u001b[49m\u001b[38;5;241;43m.\u001b[39;49m\u001b[43mprettify\u001b[49m())\n\u001b[0;32m     14\u001b[0m \u001b[38;5;28mprint\u001b[39m(\u001b[38;5;124m\"\u001b[39m\u001b[38;5;124mScrip tag extracted!\u001b[39m\u001b[38;5;124m\"\u001b[39m)\n",
      "\u001b[1;31mAttributeError\u001b[0m: 'NoneType' object has no attribute 'prettify'"
     ]
    }
   ],
   "source": [
    "# Convert response to BeautifulSoup object\n",
    "soup = BeautifulSoup(r.text, 'html.parser')\n",
    "\n",
    "# Save the prettified output to a file with UTF-8 encoding\n",
    "with open('output.html', 'w', encoding='utf-8') as f:\n",
    "    f.write(soup.prettify())\n",
    "\n",
    "script_tag = soup.find('script', type='text/javascript')\n",
    "\n",
    "# Save the prettified output to a file with UTF-8 encoding\n",
    "with open('script.js', 'w', encoding='utf-8') as f:\n",
    "    f.write(script_tag.prettify())\n",
    "\n",
    "print(\"Scrip tag extracted!\")"
   ]
  },
  {
   "cell_type": "code",
   "execution_count": 7,
   "metadata": {},
   "outputs": [
    {
     "data": {
      "text/html": [
       "<div>\n",
       "<style scoped>\n",
       "    .dataframe tbody tr th:only-of-type {\n",
       "        vertical-align: middle;\n",
       "    }\n",
       "\n",
       "    .dataframe tbody tr th {\n",
       "        vertical-align: top;\n",
       "    }\n",
       "\n",
       "    .dataframe thead th {\n",
       "        text-align: right;\n",
       "    }\n",
       "</style>\n",
       "<table border=\"1\" class=\"dataframe\">\n",
       "  <thead>\n",
       "    <tr style=\"text-align: right;\">\n",
       "      <th></th>\n",
       "      <th>pdt_category</th>\n",
       "      <th>pagetype</th>\n",
       "      <th>pdt_discount</th>\n",
       "      <th>pdt_photo</th>\n",
       "      <th>v_voya</th>\n",
       "      <th>brand_name</th>\n",
       "      <th>brand_id</th>\n",
       "      <th>pdt_sku</th>\n",
       "      <th>seller_name</th>\n",
       "      <th>pdt_simplesku</th>\n",
       "      <th>pdt_name</th>\n",
       "      <th>supplier_id</th>\n",
       "      <th>pdt_price</th>\n",
       "    </tr>\n",
       "  </thead>\n",
       "  <tbody>\n",
       "    <tr>\n",
       "      <th>0</th>\n",
       "      <td>[Furniture &amp; Decor, Home Decor, Wall Decor]</td>\n",
       "      <td>pdp</td>\n",
       "      <td>-83%</td>\n",
       "      <td>https://static-01.daraz.pk/p/aa8eb57eda021659c...</td>\n",
       "      <td>1</td>\n",
       "      <td>Lifestyle Glory</td>\n",
       "      <td>124660610</td>\n",
       "      <td>466018780</td>\n",
       "      <td>Lifestyle Glory</td>\n",
       "      <td>2201459932</td>\n",
       "      <td>Lifestyle Glory Brand Decorative Butterfly Wal...</td>\n",
       "      <td>6005020329088</td>\n",
       "      <td>Rs. 500</td>\n",
       "    </tr>\n",
       "  </tbody>\n",
       "</table>\n",
       "</div>"
      ],
      "text/plain": [
       "                                  pdt_category pagetype pdt_discount  \\\n",
       "0  [Furniture & Decor, Home Decor, Wall Decor]      pdp         -83%   \n",
       "\n",
       "                                           pdt_photo  v_voya       brand_name  \\\n",
       "0  https://static-01.daraz.pk/p/aa8eb57eda021659c...       1  Lifestyle Glory   \n",
       "\n",
       "    brand_id    pdt_sku      seller_name  pdt_simplesku  \\\n",
       "0  124660610  466018780  Lifestyle Glory     2201459932   \n",
       "\n",
       "                                            pdt_name    supplier_id pdt_price  \n",
       "0  Lifestyle Glory Brand Decorative Butterfly Wal...  6005020329088   Rs. 500  "
      ]
     },
     "execution_count": 7,
     "metadata": {},
     "output_type": "execute_result"
    }
   ],
   "source": [
    "# Extract text content from the script tag\n",
    "script_text = script_tag.text.strip()\n",
    "\n",
    "# Find the index of the JSON string within the script text\n",
    "start_index = script_text.find('{')\n",
    "end_index = script_text.rfind('}\"') + 1\n",
    "\n",
    "# Extract the JSON string\n",
    "json_data = script_text[start_index:end_index]\n",
    "\n",
    "json_data = json_data.replace('\\\\\"', '\"')\n",
    "\n",
    "# Parse the JSON data\n",
    "parsed_data = json.loads(json_data)\n",
    "\n",
    "# Flatten the nested dictionary\n",
    "flat_data = {key: value for key,\n",
    "             value in parsed_data.items() if not isinstance(value, dict)}\n",
    "\n",
    "# Create a DataFrame from the JSON data\n",
    "df = pd.DataFrame.from_dict([flat_data])\n",
    "\n",
    "# Specify the file path to save the Excel file\n",
    "excel_file_path = 'data.xlsx'\n",
    "\n",
    "# Save the DataFrame to an Excel file\n",
    "df.to_excel(excel_file_path, index=False)\n",
    "\n",
    "df.head()"
   ]
  }
 ],
 "metadata": {
  "kernelspec": {
   "display_name": "Python 3",
   "language": "python",
   "name": "python3"
  },
  "language_info": {
   "codemirror_mode": {
    "name": "ipython",
    "version": 3
   },
   "file_extension": ".py",
   "mimetype": "text/x-python",
   "name": "python",
   "nbconvert_exporter": "python",
   "pygments_lexer": "ipython3",
   "version": "3.12.0"
  }
 },
 "nbformat": 4,
 "nbformat_minor": 2
}
