{
 "cells": [
  {
   "cell_type": "code",
   "execution_count": 5,
   "metadata": {},
   "outputs": [
    {
     "ename": "NullFunctionError",
     "evalue": "Attempt to call an undefined function glutInitDisplayMode, check for bool(glutInitDisplayMode) before calling",
     "output_type": "error",
     "traceback": [
      "\u001b[1;31m---------------------------------------------------------------------------\u001b[0m",
      "\u001b[1;31mNullFunctionError\u001b[0m                         Traceback (most recent call last)",
      "Cell \u001b[1;32mIn[5], line 44\u001b[0m\n\u001b[0;32m     40\u001b[0m     init()                                  \u001b[38;5;66;03m# Initialize OpenGL\u001b[39;00m\n\u001b[0;32m     41\u001b[0m     glutMainLoop()                          \u001b[38;5;66;03m# Enter main event loop\u001b[39;00m\n\u001b[1;32m---> 44\u001b[0m \u001b[43mmain\u001b[49m\u001b[43m(\u001b[49m\u001b[43m)\u001b[49m\n",
      "Cell \u001b[1;32mIn[5], line 34\u001b[0m, in \u001b[0;36mmain\u001b[1;34m()\u001b[0m\n\u001b[0;32m     32\u001b[0m \u001b[38;5;28;01mdef\u001b[39;00m \u001b[38;5;21mmain\u001b[39m():\n\u001b[0;32m     33\u001b[0m     glutInit()                              \u001b[38;5;66;03m# Initialize GLUT\u001b[39;00m\n\u001b[1;32m---> 34\u001b[0m     \u001b[43mglutInitDisplayMode\u001b[49m\u001b[43m(\u001b[49m\u001b[43mGLUT_SINGLE\u001b[49m\u001b[43m \u001b[49m\u001b[38;5;241;43m|\u001b[39;49m\u001b[43m \u001b[49m\u001b[43mGLUT_RGB\u001b[49m\u001b[43m)\u001b[49m  \u001b[38;5;66;03m# Set display mode\u001b[39;00m\n\u001b[0;32m     35\u001b[0m     glutInitWindowSize(\u001b[38;5;241m500\u001b[39m, \u001b[38;5;241m500\u001b[39m)            \u001b[38;5;66;03m# Set window size\u001b[39;00m\n\u001b[0;32m     36\u001b[0m     glutInitWindowPosition(\u001b[38;5;241m100\u001b[39m, \u001b[38;5;241m100\u001b[39m)        \u001b[38;5;66;03m# Set window position\u001b[39;00m\n",
      "File \u001b[1;32md:\\Semester 4\\Lib\\site-packages\\OpenGL\\platform\\baseplatform.py:423\u001b[0m, in \u001b[0;36m_NullFunctionPointer.__call__\u001b[1;34m(self, *args, **named)\u001b[0m\n\u001b[0;32m    421\u001b[0m     \u001b[38;5;28;01mpass\u001b[39;00m\n\u001b[0;32m    422\u001b[0m \u001b[38;5;28;01melse\u001b[39;00m:\n\u001b[1;32m--> 423\u001b[0m     \u001b[38;5;28;01mraise\u001b[39;00m error\u001b[38;5;241m.\u001b[39mNullFunctionError(\n\u001b[0;32m    424\u001b[0m \u001b[38;5;250m        \u001b[39m\u001b[38;5;124;03m\"\"\"Attempt to call an undefined function %s, check for bool(%s) before calling\"\"\"\u001b[39;00m\u001b[38;5;241m%\u001b[39m(\n\u001b[0;32m    425\u001b[0m             \u001b[38;5;28mself\u001b[39m\u001b[38;5;241m.\u001b[39m\u001b[38;5;18m__name__\u001b[39m, \u001b[38;5;28mself\u001b[39m\u001b[38;5;241m.\u001b[39m\u001b[38;5;18m__name__\u001b[39m,\n\u001b[0;32m    426\u001b[0m         )\n\u001b[0;32m    427\u001b[0m     )\n",
      "\u001b[1;31mNullFunctionError\u001b[0m: Attempt to call an undefined function glutInitDisplayMode, check for bool(glutInitDisplayMode) before calling"
     ]
    }
   ],
   "source": [
    "from OpenGL.GL import *\n",
    "from OpenGL.GLUT import *\n",
    "from OpenGL.GLU import *\n",
    "\n",
    "# Function to initialize OpenGL\n",
    "def init():\n",
    "    glClearColor(0.0, 0.0, 0.0, 1.0)  # Set background color to black\n",
    "\n",
    "# Function to handle window resizing\n",
    "def reshape(width, height):\n",
    "    glViewport(0, 0, width, height)\n",
    "    glMatrixMode(GL_PROJECTION)\n",
    "    glLoadIdentity()\n",
    "    gluOrtho2D(-1, 1, -1, 1)  # Set up 2D orthographic projection\n",
    "    glMatrixMode(GL_MODELVIEW)\n",
    "    glLoadIdentity()\n",
    "\n",
    "# Function to draw the scene\n",
    "def draw():\n",
    "    glClear(GL_COLOR_BUFFER_BIT)  # Clear the color buffer\n",
    "    glColor3f(1.0, 0.0, 0.0)  # Set drawing color to red\n",
    "\n",
    "    glBegin(GL_TRIANGLES)  # Begin drawing triangle\n",
    "    glVertex2f(0.0, 0.5)    # Top vertex\n",
    "    glVertex2f(-0.5, -0.5)  # Bottom left vertex\n",
    "    glVertex2f(0.5, -0.5)   # Bottom right vertex\n",
    "    glEnd()                 # End drawing triangle\n",
    "\n",
    "    glFlush()  # Flush OpenGL buffer\n",
    "\n",
    "# Main function\n",
    "def main():\n",
    "    glutInit()                              # Initialize GLUT\n",
    "    glutInitDisplayMode(GLUT_SINGLE | GLUT_RGB)  # Set display mode\n",
    "    glutInitWindowSize(500, 500)            # Set window size\n",
    "    glutInitWindowPosition(100, 100)        # Set window position\n",
    "    glutCreateWindow(b\"PyOpenGL Example\")   # Create window with title\n",
    "    glutDisplayFunc(draw)                   # Set draw function\n",
    "    glutReshapeFunc(reshape)                # Set reshape function\n",
    "    init()                                  # Initialize OpenGL\n",
    "    glutMainLoop()                          # Enter main event loop\n",
    "\n",
    "\n"
   ]
  }
 ],
 "metadata": {
  "kernelspec": {
   "display_name": "Python 3",
   "language": "python",
   "name": "python3"
  },
  "language_info": {
   "codemirror_mode": {
    "name": "ipython",
    "version": 3
   },
   "file_extension": ".py",
   "mimetype": "text/x-python",
   "name": "python",
   "nbconvert_exporter": "python",
   "pygments_lexer": "ipython3",
   "version": "3.11.5"
  }
 },
 "nbformat": 4,
 "nbformat_minor": 2
}
