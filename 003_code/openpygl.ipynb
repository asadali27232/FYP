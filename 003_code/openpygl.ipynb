{
 "cells": [
  {
   "cell_type": "code",
   "execution_count": 4,
   "metadata": {},
   "outputs": [],
   "source": [
    "from OpenGL.GL import *\n",
    "from OpenGL.GLUT import *\n",
    "from OpenGL.GLU import *\n",
    "\n",
    "# Function to initialize OpenGL\n",
    "def init():\n",
    "    glClearColor(0.0, 0.0, 0.0, 1.0)  # Set background color to black\n",
    "\n",
    "# Function to handle window resizing\n",
    "def reshape(width, height):\n",
    "    glViewport(0, 0, width, height)\n",
    "    glMatrixMode(GL_PROJECTION)\n",
    "    glLoadIdentity()\n",
    "    gluOrtho2D(-1, 1, -1, 1)  # Set up 2D orthographic projection\n",
    "    glMatrixMode(GL_MODELVIEW)\n",
    "    glLoadIdentity()\n",
    "\n",
    "# Function to draw the scene\n",
    "def draw():\n",
    "    glClear(GL_COLOR_BUFFER_BIT)  # Clear the color buffer\n",
    "    glColor3f(1.0, 0.0, 0.0)  # Set drawing color to red\n",
    "\n",
    "    glBegin(GL_TRIANGLES)  # Begin drawing triangle\n",
    "    glVertex2f(0.0, 0.5)    # Top vertex\n",
    "    glVertex2f(-0.5, -0.5)  # Bottom left vertex\n",
    "    glVertex2f(0.5, -0.5)   # Bottom right vertex\n",
    "    glEnd()                 # End drawing triangle\n",
    "\n",
    "    glFlush()  # Flush OpenGL buffer\n",
    "\n",
    "# Main function\n",
    "def main():\n",
    "    glutInit()                              # Initialize GLUT\n",
    "    glutInitDisplayMode(GLUT_SINGLE | GLUT_RGB)  # Set display mode\n",
    "    glutInitWindowSize(500, 500)            # Set window size\n",
    "    glutInitWindowPosition(100, 100)        # Set window position\n",
    "    glutCreateWindow(b\"PyOpenGL Example\")   # Create window with title\n",
    "    glutDisplayFunc(draw)                   # Set draw function\n",
    "    glutReshapeFunc(reshape)                # Set reshape function\n",
    "    init()                                  # Initialize OpenGL\n",
    "    glutMainLoop()                          # Enter main event loop\n",
    "\n",
    "\n"
   ]
  }
 ],
 "metadata": {
  "kernelspec": {
   "display_name": "Python 3",
   "language": "python",
   "name": "python3"
  },
  "language_info": {
   "codemirror_mode": {
    "name": "ipython",
    "version": 3
   },
   "file_extension": ".py",
   "mimetype": "text/x-python",
   "name": "python",
   "nbconvert_exporter": "python",
   "pygments_lexer": "ipython3",
   "version": "3.11.5"
  }
 },
 "nbformat": 4,
 "nbformat_minor": 2
}
