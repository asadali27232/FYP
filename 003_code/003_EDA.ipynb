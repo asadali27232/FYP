{
 "cells": [
  {
   "cell_type": "code",
   "execution_count": 5,
   "metadata": {},
   "outputs": [
    {
     "name": "stdout",
     "output_type": "stream",
     "text": [
      "Error: [Errno 2] No such file or directory: 'D:\\\\fyp\\\\fyp_proposal\\\\003_code\\\\Data\\\\records100\\\\00000\\\\Data\\\\records100\\\\00000\\\\00001_lr.hea.hea'\n"
     ]
    }
   ],
   "source": [
    "import numpy as np\n",
    "import matplotlib.pyplot as plt\n",
    "import wfdb\n",
    "import os\n",
    "\n",
    "# Define the directory where the files are located\n",
    "data_dir = 'D:\\\\fyp\\\\fyp_proposal\\\\003_code\\\\Data\\\\records100\\\\00000'\n",
    "\n",
    "# File names without extensions\n",
    "record_name = '00001_lr'\n",
    "\n",
    "# Complete file paths\n",
    "hea_file = os.path.join(data_dir, record_name)\n",
    "dat_file = os.path.join(data_dir, record_name + '.dat')\n",
    "\n",
    "try:\n",
    "    # Read ECG data using wfdb\n",
    "    signals, fields = wfdb.rdsamp(hea_file)\n",
    "\n",
    "    # Get the lead names from the signal information\n",
    "    lead_names = fields['sig_name']\n",
    "\n",
    "    # If lead names are not provided, generate default names\n",
    "    if not lead_names:\n",
    "        lead_names = [f'Lead{i+1}' for i in range(len(signals[0]))]\n",
    "\n",
    "    print(\"ECG data successfully loaded.\")\n",
    "    print(\"Lead Names:\", lead_names)\n",
    "\n",
    "    # Plot the ECG signals\n",
    "    plt.figure(figsize=(10, 6))\n",
    "    for i in range(len(signals[0])):\n",
    "        plt.plot(signals[:, i], label=lead_names[i])\n",
    "    plt.xlabel('Sample')\n",
    "    plt.ylabel('Amplitude')\n",
    "    plt.title('ECG Signals')\n",
    "    plt.legend()\n",
    "    plt.show()\n",
    "\n",
    "except Exception as e:\n",
    "    print(\"Error:\", e)\n"
   ]
  }
 ],
 "metadata": {
  "kernelspec": {
   "display_name": "Python 3",
   "language": "python",
   "name": "python3"
  },
  "language_info": {
   "codemirror_mode": {
    "name": "ipython",
    "version": 3
   },
   "file_extension": ".py",
   "mimetype": "text/x-python",
   "name": "python",
   "nbconvert_exporter": "python",
   "pygments_lexer": "ipython3",
   "version": "3.11.5"
  }
 },
 "nbformat": 4,
 "nbformat_minor": 2
}
