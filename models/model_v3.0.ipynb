{
 "cells": [
  {
   "cell_type": "code",
   "execution_count": 1,
   "metadata": {},
   "outputs": [],
   "source": [
    "import pandas as pd\n",
    "import numpy as np\n",
    "from sklearn.model_selection import train_test_split"
   ]
  },
  {
   "cell_type": "code",
   "execution_count": 2,
   "metadata": {},
   "outputs": [],
   "source": [
    "csv_path = 'D:\\\\Semester 7\\\\FYP\\\\preprocessing\\\\output_labels.csv'\n",
    "df = pd.read_csv(csv_path)\n",
    "\n",
    "# Extract file paths and class labels\n",
    "file_paths = df['Path'].values\n",
    "class_labels = df['Class'].values\n",
    "\n",
    "# Load ECG data from file paths\n",
    "ecg_data = []\n",
    "for path in file_paths:\n",
    "    # Load ECG data from CSV file\n",
    "    ecg_df = pd.read_csv(path)\n",
    "    # Assuming your ECG data is in columns I, II, III, AVR, AVL, AVF, V1, V2, V3, V4, V5, V6\n",
    "    ecg_values = ecg_df[['I', 'II', 'III', 'AVR', 'AVL',\n",
    "                         'AVF', 'V1', 'V2', 'V3', 'V4', 'V5', 'V6']].values\n",
    "    ecg_data.append(ecg_values)\n",
    "\n",
    "X = np.array(ecg_data)\n",
    "y = np.array(class_labels)"
   ]
  },
  {
   "cell_type": "code",
   "execution_count": 3,
   "metadata": {},
   "outputs": [
    {
     "name": "stdout",
     "output_type": "stream",
     "text": [
      "(5000, 5000, 12) (5000,)\n"
     ]
    }
   ],
   "source": [
    "print(X.shape, y.shape)"
   ]
  },
  {
   "cell_type": "code",
   "execution_count": 4,
   "metadata": {},
   "outputs": [
    {
     "data": {
      "text/plain": [
       "array(['NORM', 'NORM', 'NORM', ..., 'HYP', 'HYP', 'HYP'], dtype=object)"
      ]
     },
     "execution_count": 4,
     "metadata": {},
     "output_type": "execute_result"
    }
   ],
   "source": [
    "y"
   ]
  },
  {
   "cell_type": "code",
   "execution_count": 5,
   "metadata": {},
   "outputs": [],
   "source": [
    "from sklearn.preprocessing import LabelEncoder"
   ]
  },
  {
   "cell_type": "code",
   "execution_count": 6,
   "metadata": {},
   "outputs": [],
   "source": [
    "# shuufle the data\n",
    "from sklearn.utils import shuffle\n",
    "X, y = shuffle(X, y)\n"
   ]
  },
  {
   "cell_type": "code",
   "execution_count": 7,
   "metadata": {},
   "outputs": [],
   "source": [
    "# Split the data into training and testing sets\n",
    "X_train, X_test, y_train, y_test = train_test_split(\n",
    "    X, y, test_size=0.2, random_state=42)\n",
    "\n",
    "# No need to reshape X for LSTM input\n",
    "\n",
    "# Instantiate the encoder\n",
    "le = LabelEncoder()\n",
    "\n",
    "# Fit the encoder and transform the labels\n",
    "y_train = le.fit_transform(y_train)\n",
    "y_test = le.transform(y_test)"
   ]
  },
  {
   "cell_type": "code",
   "execution_count": 8,
   "metadata": {},
   "outputs": [],
   "source": [
    "\n",
    "from tensorflow.keras.models import Sequential\n",
    "from tensorflow.keras.layers import LSTM , Dropout , Dense\n",
    "from tensorflow.keras.optimizers import Adam"
   ]
  },
  {
   "cell_type": "code",
   "execution_count": 9,
   "metadata": {},
   "outputs": [
    {
     "name": "stderr",
     "output_type": "stream",
     "text": [
      "c:\\Program Files\\Python312\\Lib\\site-packages\\keras\\src\\layers\\rnn\\rnn.py:205: UserWarning: Do not pass an `input_shape`/`input_dim` argument to a layer. When using Sequential models, prefer using an `Input(shape)` object as the first layer in the model instead.\n",
      "  super().__init__(**kwargs)\n"
     ]
    },
    {
     "name": "stdout",
     "output_type": "stream",
     "text": [
      "Epoch 1/5\n",
      "\u001b[1m125/125\u001b[0m \u001b[32m━━━━━━━━━━━━━━━━━━━━\u001b[0m\u001b[37m\u001b[0m \u001b[1m1997s\u001b[0m 16s/step - accuracy: 0.2099 - loss: 1.6081 - val_accuracy: 0.2250 - val_loss: 1.6071\n",
      "Epoch 2/5\n",
      "\u001b[1m125/125\u001b[0m \u001b[32m━━━━━━━━━━━━━━━━━━━━\u001b[0m\u001b[37m\u001b[0m \u001b[1m2101s\u001b[0m 17s/step - accuracy: 0.2419 - loss: 1.6059 - val_accuracy: 0.2350 - val_loss: 1.6051\n",
      "Epoch 3/5\n",
      "\u001b[1m125/125\u001b[0m \u001b[32m━━━━━━━━━━━━━━━━━━━━\u001b[0m\u001b[37m\u001b[0m \u001b[1m1026s\u001b[0m 8s/step - accuracy: 0.2410 - loss: 1.6039 - val_accuracy: 0.2330 - val_loss: 1.6028\n",
      "Epoch 4/5\n",
      "\u001b[1m125/125\u001b[0m \u001b[32m━━━━━━━━━━━━━━━━━━━━\u001b[0m\u001b[37m\u001b[0m \u001b[1m1725s\u001b[0m 14s/step - accuracy: 0.2540 - loss: 1.6008 - val_accuracy: 0.2290 - val_loss: 1.6000\n",
      "Epoch 5/5\n",
      "\u001b[1m125/125\u001b[0m \u001b[32m━━━━━━━━━━━━━━━━━━━━\u001b[0m\u001b[37m\u001b[0m \u001b[1m1564s\u001b[0m 12s/step - accuracy: 0.2642 - loss: 1.5940 - val_accuracy: 0.2360 - val_loss: 1.5959\n",
      "\u001b[1m32/32\u001b[0m \u001b[32m━━━━━━━━━━━━━━━━━━━━\u001b[0m\u001b[37m\u001b[0m \u001b[1m76s\u001b[0m 2s/step - accuracy: 0.2213 - loss: 1.5972\n",
      "Test Accuracy: 0.23600000143051147\n"
     ]
    }
   ],
   "source": [
    "\n",
    "model = Sequential()\n",
    "model.add(LSTM(64, return_sequences=True, input_shape=(X_train.shape[1], X_train.shape[2])))\n",
    "model.add(LSTM(128, return_sequences=False))\n",
    "model.add(Dense(256, activation='relu'))\n",
    "model.add(Dropout(0.6))  # Add dropout layer for regularization\n",
    "model.add(Dense(len(np.unique(y_train)), activation='softmax'))\n",
    "\n",
    "# Compile the model with a lower learning rate and Adam optimizer\n",
    "optimizer = Adam(learning_rate=0.0001)  # Specify the learning rate here\n",
    "model.compile(loss='sparse_categorical_crossentropy',\n",
    "              optimizer=optimizer, metrics=['accuracy'])\n",
    "\n",
    "# Train the model with increased epochs and batch size\n",
    "model.fit(X_train, y_train, epochs=5, batch_size=32,\n",
    "          validation_data=(X_test, y_test))\n",
    "\n",
    "# Evaluate the model and print test accuracy\n",
    "accuracy = model.evaluate(X_test, y_test)[1]\n",
    "print(f\"Test Accuracy: {accuracy}\")"
   ]
  }
 ],
 "metadata": {
  "kernelspec": {
   "display_name": "Python 3",
   "language": "python",
   "name": "python3"
  },
  "language_info": {
   "codemirror_mode": {
    "name": "ipython",
    "version": 3
   },
   "file_extension": ".py",
   "mimetype": "text/x-python",
   "name": "python",
   "nbconvert_exporter": "python",
   "pygments_lexer": "ipython3",
   "version": "3.12.1"
  }
 },
 "nbformat": 4,
 "nbformat_minor": 2
}
